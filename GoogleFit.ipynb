{
 "cells": [
  {
   "cell_type": "code",
   "execution_count": 1,
   "metadata": {},
   "outputs": [],
   "source": [
    "import plotly_express as px\n",
    "import plotly.graph_objects as go\n",
    "from plotly.subplots import make_subplots\n",
    "\n",
    "import pandas as pd\n",
    "\n",
    "import fitanalysis as gfit\n"
   ]
  },
  {
   "cell_type": "markdown",
   "metadata": {},
   "source": [
    "<h1>Looking at Daily metrics from Fit data</h1>\n",
    "\n",
    "Build class holding the overview or summary\n",
    "\n",
    "Then for each day that you're interested in, have a class with specifics\n"
   ]
  },
  {
   "cell_type": "code",
   "execution_count": 2,
   "metadata": {},
   "outputs": [
    {
     "data": {
      "text/html": [
       "<div>\n",
       "<style scoped>\n",
       "    .dataframe tbody tr th:only-of-type {\n",
       "        vertical-align: middle;\n",
       "    }\n",
       "\n",
       "    .dataframe tbody tr th {\n",
       "        vertical-align: top;\n",
       "    }\n",
       "\n",
       "    .dataframe thead th {\n",
       "        text-align: right;\n",
       "    }\n",
       "</style>\n",
       "<table border=\"1\" class=\"dataframe\">\n",
       "  <thead>\n",
       "    <tr style=\"text-align: right;\">\n",
       "      <th></th>\n",
       "      <th>min</th>\n",
       "      <th>dis</th>\n",
       "      <th>cal</th>\n",
       "    </tr>\n",
       "    <tr>\n",
       "      <th>Weekday</th>\n",
       "      <th></th>\n",
       "      <th></th>\n",
       "      <th></th>\n",
       "    </tr>\n",
       "  </thead>\n",
       "  <tbody>\n",
       "    <tr>\n",
       "      <th>1</th>\n",
       "      <td>130.0</td>\n",
       "      <td>5903.617847</td>\n",
       "      <td>2340.555271</td>\n",
       "    </tr>\n",
       "    <tr>\n",
       "      <th>2</th>\n",
       "      <td>141.0</td>\n",
       "      <td>6033.344418</td>\n",
       "      <td>2362.154813</td>\n",
       "    </tr>\n",
       "    <tr>\n",
       "      <th>3</th>\n",
       "      <td>141.0</td>\n",
       "      <td>6827.035527</td>\n",
       "      <td>2432.754561</td>\n",
       "    </tr>\n",
       "    <tr>\n",
       "      <th>4</th>\n",
       "      <td>141.0</td>\n",
       "      <td>6334.186657</td>\n",
       "      <td>2375.066298</td>\n",
       "    </tr>\n",
       "    <tr>\n",
       "      <th>5</th>\n",
       "      <td>146.0</td>\n",
       "      <td>6616.206451</td>\n",
       "      <td>2417.774415</td>\n",
       "    </tr>\n",
       "  </tbody>\n",
       "</table>\n",
       "</div>"
      ],
      "text/plain": [
       "           min          dis          cal\n",
       "Weekday                                 \n",
       "1        130.0  5903.617847  2340.555271\n",
       "2        141.0  6033.344418  2362.154813\n",
       "3        141.0  6827.035527  2432.754561\n",
       "4        141.0  6334.186657  2375.066298\n",
       "5        146.0  6616.206451  2417.774415"
      ]
     },
     "execution_count": 2,
     "metadata": {},
     "output_type": "execute_result"
    }
   ],
   "source": [
    "ovfm=gfit.OverViewFitMetrics(\"takeout-20231014T133916Z-001.zip\")\n",
    "df=ovfm.get_variables_per_timeframe(['min','dis','cal'],'Weekday')\n",
    "df.head()"
   ]
  },
  {
   "cell_type": "code",
   "execution_count": 3,
   "metadata": {},
   "outputs": [
    {
     "name": "stdout",
     "output_type": "stream",
     "text": [
      "Success\n"
     ]
    }
   ],
   "source": [
    "dfm = gfit.DailyFitMetrics(\"2015-02-03\",\"takeout-20231014T133916Z-001.zip\")\n",
    "df = dfm.get_variables_per_time(['min','dis'],'Hour',fun=pd.DataFrame.count)\n",
    "print(\"Success\")"
   ]
  },
  {
   "cell_type": "code",
   "execution_count": null,
   "metadata": {},
   "outputs": [
    {
     "name": "stdout",
     "output_type": "stream",
     "text": [
      "    codi                  nom unitat acronim tipus  decimals\n",
      "25    32          Temperatura     °C       T   DAT         1\n",
      "26    33     Humitat relativa      %      HR   DAT         0\n",
      "27    34  Pressió atmosfèrica    hPa       P   DAT         1\n",
      "28    35         Precipitació     mm     PPT   DAT         1\n"
     ]
    }
   ],
   "source": [
    "import plotly_express as px\n",
    "import plotly.graph_objects as go\n",
    "from plotly.subplots import make_subplots\n",
    "\n",
    "import pandas as pd\n",
    "\n",
    "import fitanalysis as gfit\n",
    "\n",
    "mcat = gfit.Meteocat()\n",
    "# res = mcat.get_station_metadata(\"2023-10-19\")\n",
    "res = mcat.get_variable_codes(['Temperatura','Humitat relativa','Pressió atmosfèrica','Precipitació'])\n",
    "print(res)"
   ]
  },
  {
   "cell_type": "code",
   "execution_count": 1,
   "metadata": {},
   "outputs": [
    {
     "name": "stdout",
     "output_type": "stream",
     "text": [
      "    codi                                  nom tipus  \\\n",
      "0     CC                                 Orís     A   \n",
      "1     CD          la Seu d'Urgell - Bellestar     A   \n",
      "2     CE             els Hostalets de Pierola     A   \n",
      "3     CG                       Molló - Fabert     A   \n",
      "4     CI                 Sant Pau de Segúries     A   \n",
      "..   ...                                  ...   ...   \n",
      "184   Z3                     Malniu (2.230 m)     A   \n",
      "185   Z5                  Certascan (2.400 m)     A   \n",
      "186   Z6                   Sasseuva (2.228 m)     A   \n",
      "187   Z7                      Espot (2.519 m)     A   \n",
      "188   Z9  Cadí Nord (2.143 m) - Prat d'Aguiló     A   \n",
      "\n",
      "                         emplacament  altitud  \\\n",
      "0                  Abocador comarcal    626.0   \n",
      "1                  Abocador comarcal    849.0   \n",
      "2                Abocador de residus    316.0   \n",
      "3                   Veïnat de Fabert   1405.0   \n",
      "4    Estació meteorològica municipal    852.0   \n",
      "..                               ...      ...   \n",
      "184                 Estany de Malniu   2230.0   \n",
      "185                        Certascan   2400.0   \n",
      "186                         Sasseuva   2228.0   \n",
      "187                            Espot   2519.0   \n",
      "188        Cadí Nord - Prat d'Aguiló   2143.0   \n",
      "\n",
      "                                                estats  coordenades.latitud  \\\n",
      "0    [{'codi': 2, 'dataInici': '1995-11-15T10:00Z',...             42.07398   \n",
      "1    [{'codi': 2, 'dataInici': '1996-01-16T12:30Z',...             42.37083   \n",
      "2    [{'codi': 2, 'dataInici': '1996-03-31T23:00Z',...             41.53109   \n",
      "3    [{'codi': 2, 'dataInici': '1996-06-06T14:00Z',...             42.37717   \n",
      "4    [{'codi': 2, 'dataInici': '1995-11-24T15:00Z',...             42.25839   \n",
      "..                                                 ...                  ...   \n",
      "184  [{'codi': 2, 'dataInici': '1999-11-03T13:00Z',...             42.46605   \n",
      "185  [{'codi': 2, 'dataInici': '2000-11-11T00:00Z',...             42.70029   \n",
      "186  [{'codi': 2, 'dataInici': '2001-09-20T11:00Z',...             42.77011   \n",
      "187  [{'codi': 2, 'dataInici': '2002-03-01T17:00Z',...             42.53412   \n",
      "188  [{'codi': 2, 'dataInici': '2003-11-06T13:00Z',...             42.29265   \n",
      "\n",
      "     coordenades.longitud municipi.codi              municipi.nom  \\\n",
      "0                 2.20862        081509                      Orís   \n",
      "1                 1.43277        252038           La Seu d'Urgell   \n",
      "2                 1.80813        081629  Els Hostalets de Pierola   \n",
      "3                 2.41456        171077                     Molló   \n",
      "4                 2.36429        171772      Sant Pau de Segúries   \n",
      "..                    ...           ...                       ...   \n",
      "184               1.77850        170998                  Meranges   \n",
      "185               1.27201        251235                  Lladorre   \n",
      "186               0.73198        250313                     Arres   \n",
      "187               1.05476        250827                     Espot   \n",
      "188               1.71498        251399       Montellà i Martinet   \n",
      "\n",
      "     comarca.codi     comarca.nom  provincia.codi provincia.nom  xarxa.codi  \\\n",
      "0              24           Osona               8     Barcelona           1   \n",
      "1               4      Alt Urgell              25        Lleida           1   \n",
      "2               6           Anoia               8     Barcelona           1   \n",
      "3              31        Ripollès              17        Girona           1   \n",
      "4              31        Ripollès              17        Girona           1   \n",
      "..            ...             ...             ...           ...         ...   \n",
      "184            15        Cerdanya              17        Girona           1   \n",
      "185            26  Pallars Sobirà              25        Lleida           1   \n",
      "186            39      Val d'Aran              25        Lleida           1   \n",
      "187            26  Pallars Sobirà              25        Lleida           1   \n",
      "188            15        Cerdanya              25        Lleida           1   \n",
      "\n",
      "    xarxa.nom  \n",
      "0        XEMA  \n",
      "1        XEMA  \n",
      "2        XEMA  \n",
      "3        XEMA  \n",
      "4        XEMA  \n",
      "..        ...  \n",
      "184      XEMA  \n",
      "185      XEMA  \n",
      "186      XEMA  \n",
      "187      XEMA  \n",
      "188      XEMA  \n",
      "\n",
      "[189 rows x 16 columns]\n"
     ]
    }
   ],
   "source": [
    "import plotly_express as px\n",
    "import plotly.graph_objects as go\n",
    "from plotly.subplots import make_subplots\n",
    "\n",
    "import pandas as pd\n",
    "\n",
    "import fitanalysis as gfit\n",
    "\n",
    "stations = gfit.Meteocat().get_station_metadata(\"2023-10-19\")\n",
    "print(stations)\n",
    "\n",
    "mcat = gfit.MeteocatFitWeatherData()\n",
    "# dc = mcat.get_specific_station_metadata(station_code='UK')\n",
    "dates = ['2023-10-01', '2023-10-02', '2023-10-03']\n",
    "# df = mcat.get_daily_weather(dates,fun=pd.DataFrame.mean)\n",
    "# THIS DOES NOT WORK\n",
    "# df = mcat.get_variable_statistics(variable_code=33)\n",
    "# df.head()\n",
    "mcat.compose(dates=['2022-01-01'])\n",
    "# df = mcat.get_daily_weather(dates,startHour=8, endHour=18,fun=pd.DataFrame.mean)\n",
    "# df.head()\n",
    "print(\"Success\")\n"
   ]
  },
  {
   "cell_type": "code",
   "execution_count": 3,
   "metadata": {},
   "outputs": [
    {
     "name": "stdout",
     "output_type": "stream",
     "text": [
      "                       time        date  hour        p     T    pp\n",
      "0 2022-01-01 12:00:00+01:00  2022-01-01    12  1026.05  11.9   0.0\n",
      "1 2022-01-02 12:00:00+01:00  2022-01-02    12  1027.10  11.4   0.0\n",
      "2 2022-01-03 12:00:00+01:00  2022-01-03    12  1022.20  11.7   0.0\n",
      "3 2022-01-04 12:00:00+01:00  2022-01-04    12  1010.00  14.0  13.9\n"
     ]
    }
   ],
   "source": [
    "import plotly_express as px\n",
    "import plotly.graph_objects as go\n",
    "from plotly.subplots import make_subplots\n",
    "\n",
    "import pandas as pd\n",
    "\n",
    "import fitanalysis as gfit\n",
    "\n",
    "aemet = gfit.AEMETFitWeatherData()\n",
    "res = aemet.get_station_metadata()\n",
    "# res = aemet.get_specific_station_metadata()\n",
    "dates=['2022-01-01','2022-01-02','2022-01-03','2022-01-04']\n",
    "res = aemet.get_daily_weather(dates)\n",
    "\n",
    "print(res)"
   ]
  },
  {
   "cell_type": "code",
   "execution_count": 1,
   "metadata": {},
   "outputs": [
    {
     "name": "stdout",
     "output_type": "stream",
     "text": [
      "                        time        date  hour        p     T   pp\n",
      "0  2023-01-04 12:00:00+01:00  2023-01-04    12  1032.35  11.8  0.0\n",
      "1  2023-01-05 12:00:00+01:00  2023-01-05    12  1028.15  10.6  0.0\n",
      "2  2023-01-06 12:00:00+01:00  2023-01-06    12  1024.45   9.8  0.0\n",
      "3  2023-01-07 12:00:00+01:00  2023-01-07    12  1020.35  10.7  0.0\n",
      "4  2023-01-23 12:00:00+01:00  2023-01-23    12  1020.40   5.0  0.0\n",
      "5  2023-01-24 12:00:00+01:00  2023-01-24    12  1024.10   4.6  0.6\n",
      "6  2023-01-25 12:00:00+01:00  2023-01-25    12  1022.10   9.2  0.0\n"
     ]
    }
   ],
   "source": [
    "import plotly_express as px\n",
    "import plotly.graph_objects as go\n",
    "from plotly.subplots import make_subplots\n",
    "\n",
    "import pandas as pd\n",
    "\n",
    "import fitanalysis as gfit\n",
    "\n",
    "wd = gfit.get_weather_data_instance()\n",
    "dates=['2023-01-23','2023-01-24','2023-01-25','2023-01-04','2023-01-05','2023-01-06','2023-01-07']\n",
    "\n",
    "res = wd.get_daily_weather(dates)\n",
    "print(res)"
   ]
  },
  {
   "cell_type": "code",
   "execution_count": 3,
   "metadata": {},
   "outputs": [
    {
     "name": "stdout",
     "output_type": "stream",
     "text": [
      "Success\n"
     ]
    }
   ],
   "source": [
    "import zipfile\n",
    "import os\n",
    "from pathlib import Path\n",
    "import fitanalysis as gfit\n",
    "\n",
    "_session_folder = 'Takeout/Fit/All sessions/'\n",
    "dir_or_file = 'takeout-20231014T133916Z-001.zip'\n",
    "dates = ['2015-01-28', '2015-01-29']\n",
    "\n",
    "sess = gfit.SessionFitMetrics(dir_or_file,dates=dates, activities=['running'])\n",
    "df = sess.get_variables_per_time(['min','dis'],'Asis')\n",
    "print(\"Success\")"
   ]
  }
 ],
 "metadata": {
  "kernelspec": {
   "display_name": "Python 3",
   "language": "python",
   "name": "python3"
  },
  "language_info": {
   "codemirror_mode": {
    "name": "ipython",
    "version": 3
   },
   "file_extension": ".py",
   "mimetype": "text/x-python",
   "name": "python",
   "nbconvert_exporter": "python",
   "pygments_lexer": "ipython3",
   "version": "3.11.5"
  }
 },
 "nbformat": 4,
 "nbformat_minor": 2
}
